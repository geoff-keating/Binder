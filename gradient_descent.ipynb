{
 "cells": [
  {
   "cell_type": "code",
   "execution_count": null,
   "metadata": {},
   "outputs": [],
   "source": [
    "import torch\n",
    "import pandas as pd\n",
    "from ipywidgets import interact\n",
    "import numpy as np\n",
    "from matplotlib import pyplot as plt\n",
    "import time"
   ]
  },
  {
   "attachments": {},
   "cell_type": "markdown",
   "metadata": {},
   "source": [
    "# PyTorch Basics Notebook\n",
    "\n",
    "This notebook is a transcription of the FastAI course's \"How does a neural net really work?\" notebook that introduces users to `autograd` and `Tensor`.  To best get a feel for the lowest level of PyTorch after working with Lightning for some time, this is a quick trip back to the fundamentals.\n",
    "\n",
    "Like the FastAI course, we'll start with fitting a quadratic function to noisy data using gradient descent and compare it to other optimization approaches."
   ]
  },
  {
   "cell_type": "code",
   "execution_count": null,
   "metadata": {},
   "outputs": [],
   "source": [
    "def quadratic_factory(a: float, b: float, c: float) -> callable:\n",
    "    \"\"\"Build a function that will return values defined by the quadratic function\n",
    "    parametrized by a, b, and c\n",
    "\n",
    "    Args:\n",
    "        a (float): The squared coefficient\n",
    "        b (float): The linear coefficient\n",
    "        c (float): The constant value\n",
    "\n",
    "    Returns:\n",
    "        callable: A function that returns 'y' values for the quadratic function \n",
    "            parametrized by a, b, and c \n",
    "    \"\"\"\n",
    "\n",
    "    def quadratic(x: float | np.ndarray) -> float | np.ndarray:\n",
    "        \"\"\"The quadratic function\"\"\"\n",
    "        return a * x ** 2 + b * x + c\n",
    "    \n",
    "    return quadratic\n",
    "\n",
    "def noisy_samples(quadratic: callable, sigma: float) -> callable:\n",
    "    \"\"\"Wrap a defined quadratic function with a noise generator\n",
    "    to generate training samples\n",
    "\n",
    "    Args:\n",
    "        quadratic (callable): The defined quadratic function, see above\n",
    "        sigma (float): The variance of the gaussian noise added to every sample\n",
    "\n",
    "    Returns:\n",
    "        callable: A function that returns noisy samples of specified shape\n",
    "    \"\"\"\n",
    "    def noisy_quad(x: float | np.ndarray):\n",
    "        return quadratic(x) + np.random.randn(*x.shape) * sigma\n",
    "    return noisy_quad"
   ]
  },
  {
   "cell_type": "code",
   "execution_count": null,
   "metadata": {},
   "outputs": [],
   "source": [
    "\n",
    "# Define a function and plot it\n",
    "a = 4\n",
    "b = 3\n",
    "c = -1\n",
    "quad_func = quadratic_factory(a, b, c)\n",
    "sampler = noisy_samples(quadratic=quad_func, sigma=5)\n",
    "\n",
    "x = np.linspace(-5, 5, 50)\n",
    "y = quad_func(x)\n",
    "\n",
    "# Generate some samples between [-5, 5]\n",
    "x_sampled = (np.random.rand(50) - .5) * 10\n",
    "y_sampled = sampler(x_sampled)\n",
    "\n",
    "plt.plot(x, y, label='F(x)')\n",
    "plt.plot(x_sampled, y_sampled, 'r.', label='Sampled F(x)')\n",
    "plt.title(f'f(x) = ${a}x^2 + {b}x + {c}$')\n",
    "plt.ylabel('$f(x)$')\n",
    "plt.xlabel('$x$')\n",
    "plt.legend()\n",
    "plt.show()"
   ]
  },
  {
   "attachments": {},
   "cell_type": "markdown",
   "metadata": {},
   "source": [
    "# Quadratic Regression\n",
    "\n",
    "This can be solved closed-form using quadratric regression"
   ]
  },
  {
   "cell_type": "code",
   "execution_count": null,
   "metadata": {},
   "outputs": [],
   "source": [
    "def quadratic_regression(x: np.ndarray, y: np.ndarray) -> tuple[np.ndarray, float]:\n",
    "    start = time.time()\n",
    "    matrix_x = np.vstack((x**2, x, np.ones_like(x))).T\n",
    "    matrix_x_inv = np.dot(np.linalg.inv(np.dot(matrix_x.T, matrix_x)), matrix_x.T)\n",
    "    best_fit = np.dot(matrix_x_inv, y)\n",
    "    total_time = time.time() - start\n",
    "    print(f'Elapsed: {total_time:.4f} seconds')\n",
    "    return best_fit, total_time\n"
   ]
  },
  {
   "cell_type": "code",
   "execution_count": null,
   "metadata": {},
   "outputs": [],
   "source": [
    "a, b, c = np.round(np.random.randn(3), 2)\n",
    "n_samples = 250\n",
    "print(f'f(x) = {a}x^2 + {b}x + {c}')\n",
    "quadratic = quadratic_factory(a, b, c)\n",
    "sampler = noisy_samples(quadratic, sigma=1)\n",
    "\n",
    "x = (np.random.rand(n_samples) - .5) * 10\n",
    "x.sort()\n",
    "y = sampler(x)\n",
    "best_fit, total_time = quadratic_regression(x, y)\n",
    "fit_quadratic = quadratic_factory(*best_fit)\n",
    "print(f'f`(x) = {best_fit[0]}x^2 + {best_fit[1]}x + {best_fit[2]}')\n",
    "\n",
    "# Compute MSE\n",
    "mse = np.mean((fit_quadratic(x) - y) ** 2)\n",
    "print(f'Mean Squared Error: {mse}')\n",
    "\n",
    "plt.plot(x, quadratic(x), label='F(x)')\n",
    "plt.plot(x, y, 'r.', label='Sampled F(x)')\n",
    "plt.plot(x, fit_quadratic(x), 'g', label='Best Fit F`(x)')\n",
    "plt.title(f'f(x) = ${a}x^2 + {b}x + {c}$')\n",
    "plt.ylabel('$y$')\n",
    "plt.xlabel('$x$')\n",
    "plt.legend()\n",
    "plt.show()"
   ]
  },
  {
   "cell_type": "code",
   "execution_count": null,
   "metadata": {},
   "outputs": [],
   "source": []
  }
 ],
 "metadata": {
  "kernelspec": {
   "display_name": ".venv",
   "language": "python",
   "name": "python3"
  },
  "language_info": {
   "codemirror_mode": {
    "name": "ipython",
    "version": 3
   },
   "file_extension": ".py",
   "mimetype": "text/x-python",
   "name": "python",
   "nbconvert_exporter": "python",
   "pygments_lexer": "ipython3",
   "version": "3.10.10"
  },
  "orig_nbformat": 4,
  "vscode": {
   "interpreter": {
    "hash": "939ae3ed3cfe3980a56cc0dadd738f5ea5c143df260042777e9069bf2bcb0d9d"
   }
  }
 },
 "nbformat": 4,
 "nbformat_minor": 2
}
