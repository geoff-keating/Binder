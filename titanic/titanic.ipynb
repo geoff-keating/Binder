{
 "cells": [
  {
   "cell_type": "code",
   "execution_count": null,
   "metadata": {},
   "outputs": [],
   "source": [
    "%%capture\n",
    "!pip install pandas scikit-learn numpy matplotlib torch\n",
    "!kaggle competitions download titanic\n",
    "!unzip -o titanic.zip"
   ]
  },
  {
   "cell_type": "code",
   "execution_count": null,
   "metadata": {},
   "outputs": [],
   "source": [
    "import pandas as pd"
   ]
  },
  {
   "attachments": {},
   "cell_type": "markdown",
   "metadata": {},
   "source": [
    "# Model I: Birkenhead Model\n",
    "\n",
    "To get things going, we can make an easy first pass model that operates on the knowledge that women and children were prioritized evacuation under the [Birkenhead drill](https://en.wikipedia.org/wiki/Women_and_children_first).  Simply put, if you are a woman or under the age of 13, the model will predict that the individual survives."
   ]
  },
  {
   "cell_type": "code",
   "execution_count": null,
   "metadata": {},
   "outputs": [],
   "source": [
    "train = pd.read_csv(\"train.csv\")\n",
    "test = pd.read_csv(\"test.csv\")\n",
    "train.sample(5)"
   ]
  },
  {
   "cell_type": "code",
   "execution_count": null,
   "metadata": {},
   "outputs": [],
   "source": [
    "child_age = 12.0\n",
    "\n",
    "# Keep sex and age columns\n",
    "reduced = train[[\"Sex\", \"Age\", \"Survived\"]].copy()\n",
    "reduced.Sex = (reduced.Sex == \"female\").astype(int)\n",
    "reduced.Age = (reduced.Age <= child_age).astype(int)\n",
    "reduced[\"predicted\"] = reduced.Sex | reduced.Age\n",
    "train_acc = (reduced.predicted == reduced.Survived).mean()\n",
    "sex_only = (reduced.Sex == reduced.Survived).mean()\n",
    "print(f\"Birkenhead drill train accuracy: {train_acc * 100:.2f}%\")\n",
    "print(f\"Sex only train accuracy: {sex_only * 100:.2f}%\")\n",
    "\n",
    "# Write out the submission\n",
    "bh_test = test[[\"PassengerId\", \"Sex\", \"Age\"]].copy()\n",
    "bh_test.Sex = (bh_test.Sex == \"female\").astype(int)\n",
    "bh_test.Age = (bh_test.Age <= child_age).astype(int)\n",
    "bh_test[\"Survived\"] = bh_test.Sex | bh_test.Age\n",
    "bh_test.to_csv(\"birkenhead.csv\", columns=[\"PassengerId\", \"Survived\"], index=False)"
   ]
  },
  {
   "cell_type": "code",
   "execution_count": null,
   "metadata": {},
   "outputs": [],
   "source": [
    "#!kaggle competitions submit titanic -f birkenhead.csv -m \"Naive Model\""
   ]
  },
  {
   "attachments": {},
   "cell_type": "markdown",
   "metadata": {},
   "source": [
    "Not bad!  For such a simple model we are at nearly 80% accurate.  Adjusting for children didn't make much of a difference, but it did give us an extra half a percent or so.  "
   ]
  },
  {
   "attachments": {},
   "cell_type": "markdown",
   "metadata": {},
   "source": [
    "# Data Preparation\n",
    "\n",
    "Before trying out any more sophisticated models, let's try to clean up our data to get the most out of what we have.  There are a lot of variables that may be missing entries and string fields that we could convert into categorical columns like we did for sex in our naive model."
   ]
  },
  {
   "cell_type": "code",
   "execution_count": null,
   "metadata": {},
   "outputs": [],
   "source": []
  }
 ],
 "metadata": {
  "kernelspec": {
   "display_name": ".venv",
   "language": "python",
   "name": "python3"
  },
  "language_info": {
   "codemirror_mode": {
    "name": "ipython",
    "version": 3
   },
   "file_extension": ".py",
   "mimetype": "text/x-python",
   "name": "python",
   "nbconvert_exporter": "python",
   "pygments_lexer": "ipython3"
  },
  "vscode": {
   "interpreter": {
    "hash": "9c5e7bc60812e4f465d8a8f03ded68579c8c0c964eec928bebe0bf95b0baae9f"
   }
  }
 },
 "nbformat": 4,
 "nbformat_minor": 2
}
